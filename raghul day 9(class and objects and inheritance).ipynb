{
 "cells": [
  {
   "cell_type": "code",
   "execution_count": 12,
   "metadata": {},
   "outputs": [],
   "source": [
    "class human:\n",
    "    def __init__(self,n,o,a):\n",
    "        self.name=n\n",
    "        self.occupation=o\n",
    "        self.age=a\n",
    "    def work_people(self):\n",
    "        if self.occupation=='student':\n",
    "            print(self.name,'is a student')\n",
    "        elif self.occupation=='data scientist':\n",
    "            print(self.name,'is a data scientist')\n",
    "        elif self.occupation=='business':\n",
    "            print(self.name,'is a business man!')\n",
    "    def speaks(self):\n",
    "        print(self.age,'oohhh this is my age')\n"
   ]
  },
  {
   "cell_type": "code",
   "execution_count": 13,
   "metadata": {},
   "outputs": [
    {
     "name": "stdout",
     "output_type": "stream",
     "text": [
      "raghul is a student\n",
      "22 oohhh this is my age\n"
     ]
    }
   ],
   "source": [
    "rag=human(\"raghul\",\"student\",22)\n",
    "rag.work_people()\n",
    "rag.speaks()"
   ]
  },
  {
   "cell_type": "code",
   "execution_count": 14,
   "metadata": {},
   "outputs": [
    {
     "name": "stdout",
     "output_type": "stream",
     "text": [
      "pp is a business man!\n",
      "32 oohhh this is my age\n"
     ]
    }
   ],
   "source": [
    "pp=human(\"pp\",'business',32)\n",
    "pp.work_people()\n",
    "pp.speaks()"
   ]
  },
  {
   "cell_type": "code",
   "execution_count": 16,
   "metadata": {},
   "outputs": [
    {
     "name": "stdout",
     "output_type": "stream",
     "text": [
      "gowtham is a data scientist\n",
      "23 oohhh this is my age\n"
     ]
    }
   ],
   "source": [
    "gow=human(\"gowtham\",'data scientist',23)\n",
    "gow.work_people()\n",
    "gow.speaks()"
   ]
  },
  {
   "cell_type": "code",
   "execution_count": 51,
   "metadata": {},
   "outputs": [],
   "source": [
    "class transport:\n",
    "    def general_usage(self):\n",
    "        print(\"general usage:used for transportation\")\n",
    "        \n",
    "class car(transport):\n",
    "    def __init__(self,n,t):\n",
    "        self.name=n\n",
    "        self.typeofcar=t\n",
    "    def name_car(self):\n",
    "        if self.name==\"alto\":\n",
    "            print(\"it sis maruthi car\")\n",
    "        elif self.name=='benz':\n",
    "            print('it is merchedes benz')\n",
    "        elif self.name=='seltos':\n",
    "            print('it is kia')\n",
    "    def car_type(self):\n",
    "        if self.typeofcar=='highend':\n",
    "            print(self.name,'it is a high end car')\n",
    "        elif self.typeofcar=='lowend car':\n",
    "            print(self.name,'it is  a low end car')\n",
    "class motorcyles(transport):\n",
    "      def __init__(self,s,l):\n",
    "        self.name=s\n",
    "        self.typeofbike=l\n",
    "      def motar_name(self):\n",
    "        if self.name=='duke':\n",
    "            print(self.name,'is ktm bike')\n",
    "        elif self.name=='r15':\n",
    "            print(self.name,'is s yahama')\n",
    "      def type_bike(self):\n",
    "        if self.typeofbike=='superbike':\n",
    "            print(self.typeofbike,'!!!!!goes with a high speed')\n",
    "        elif self.typeofbike=='normalbike':\n",
    "            print(self.typeofbike,'it is for a family usage')\n",
    "      \n",
    "        \n",
    "        "
   ]
  },
  {
   "cell_type": "code",
   "execution_count": 52,
   "metadata": {},
   "outputs": [
    {
     "name": "stdout",
     "output_type": "stream",
     "text": [
      "general usage:used for transportation\n",
      "it sis maruthi car\n",
      "alto it is  a low end car\n"
     ]
    }
   ],
   "source": [
    "cars=car('alto','lowend car')\n",
    "cars.general_usage()\n",
    "cars.name_car()\n",
    "cars.car_type()"
   ]
  },
  {
   "cell_type": "code",
   "execution_count": 55,
   "metadata": {},
   "outputs": [
    {
     "name": "stdout",
     "output_type": "stream",
     "text": [
      "duke is ktm bike\n",
      "superbike !!!!!goes with a high speed\n"
     ]
    }
   ],
   "source": [
    "bike=motorcyles('duke','superbike')\n",
    "bike.motar_name()\n",
    "bike.type_bike()"
   ]
  },
  {
   "cell_type": "code",
   "execution_count": 56,
   "metadata": {},
   "outputs": [
    {
     "name": "stdout",
     "output_type": "stream",
     "text": [
      "False\n"
     ]
    }
   ],
   "source": [
    "print(isinstance(bike,car))"
   ]
  },
  {
   "cell_type": "code",
   "execution_count": 57,
   "metadata": {},
   "outputs": [
    {
     "name": "stdout",
     "output_type": "stream",
     "text": [
      "True\n"
     ]
    }
   ],
   "source": [
    "print(isinstance(bike,motorcyles))"
   ]
  },
  {
   "cell_type": "code",
   "execution_count": 59,
   "metadata": {},
   "outputs": [
    {
     "name": "stdout",
     "output_type": "stream",
     "text": [
      "True\n"
     ]
    }
   ],
   "source": [
    "print(issubclass(motorcyles,transport))"
   ]
  },
  {
   "cell_type": "code",
   "execution_count": 60,
   "metadata": {},
   "outputs": [
    {
     "name": "stdout",
     "output_type": "stream",
     "text": [
      "True\n"
     ]
    }
   ],
   "source": [
    "print(issubclass(car,transport))"
   ]
  },
  {
   "cell_type": "code",
   "execution_count": 61,
   "metadata": {},
   "outputs": [
    {
     "name": "stdout",
     "output_type": "stream",
     "text": [
      "False\n"
     ]
    }
   ],
   "source": [
    "print(issubclass(car,motorcyles))"
   ]
  },
  {
   "cell_type": "code",
   "execution_count": null,
   "metadata": {},
   "outputs": [],
   "source": []
  }
 ],
 "metadata": {
  "kernelspec": {
   "display_name": "Python 3",
   "language": "python",
   "name": "python3"
  },
  "language_info": {
   "codemirror_mode": {
    "name": "ipython",
    "version": 3
   },
   "file_extension": ".py",
   "mimetype": "text/x-python",
   "name": "python",
   "nbconvert_exporter": "python",
   "pygments_lexer": "ipython3",
   "version": "3.8.5"
  }
 },
 "nbformat": 4,
 "nbformat_minor": 4
}
